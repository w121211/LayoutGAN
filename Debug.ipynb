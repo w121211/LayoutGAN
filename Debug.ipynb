{
 "cells": [
  {
   "cell_type": "code",
   "execution_count": 24,
   "metadata": {},
   "outputs": [
    {
     "name": "stdout",
     "output_type": "stream",
     "text": [
      "[('Toolbar', [0, 84, 1440, 280]), ('Text', [0, 280, 1440, 378]), ('Text Button', [53, 991, 633, 1067]), ('Text', [0, 1155, 1440, 1253]), ('Text Button', [53, 1306, 1387, 1437]), ('Text Button', [1100, 1490, 1387, 1547]), ('Input', [53, 442, 1387, 547]), ('Input', [53, 565, 1387, 670]), ('Text Button', [53, 688, 1387, 828]), ('Text Button', [53, 881, 394, 938]), ('Text Button', [1041, 881, 1387, 938])]\n"
     ]
    }
   ],
   "source": [
    "import glob\n",
    "import json\n",
    "\n",
    "with open('data/semantic_annotations/100.json') as f:\n",
    "    j = json.load(f)\n",
    "    print([(c['componentLabel'], c['bounds']) for c in j['children']])\n",
    "    \n",
    "\n",
    "\n",
    "\n"
   ]
  },
  {
   "cell_type": "code",
   "execution_count": null,
   "metadata": {},
   "outputs": [],
   "source": []
  }
 ],
 "metadata": {
  "kernelspec": {
   "display_name": "Python 3",
   "language": "python",
   "name": "python3"
  },
  "language_info": {
   "codemirror_mode": {
    "name": "ipython",
    "version": 3
   },
   "file_extension": ".py",
   "mimetype": "text/x-python",
   "name": "python",
   "nbconvert_exporter": "python",
   "pygments_lexer": "ipython3",
   "version": "3.6.7"
  }
 },
 "nbformat": 4,
 "nbformat_minor": 2
}
