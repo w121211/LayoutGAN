{
 "cells": [
  {
   "cell_type": "code",
   "execution_count": 1,
   "metadata": {},
   "outputs": [
    {
     "name": "stdout",
     "output_type": "stream",
     "text": [
      "Downloading http://yann.lecun.com/exdb/mnist/train-images-idx3-ubyte.gz to data/MNIST/raw/train-images-idx3-ubyte.gz\n",
      "100.1%Extracting data/MNIST/raw/train-images-idx3-ubyte.gz\n",
      "Downloading http://yann.lecun.com/exdb/mnist/train-labels-idx1-ubyte.gz to data/MNIST/raw/train-labels-idx1-ubyte.gz\n",
      "113.5%Extracting data/MNIST/raw/train-labels-idx1-ubyte.gz\n",
      "Downloading http://yann.lecun.com/exdb/mnist/t10k-images-idx3-ubyte.gz to data/MNIST/raw/t10k-images-idx3-ubyte.gz\n",
      "100.4%Extracting data/MNIST/raw/t10k-images-idx3-ubyte.gz\n",
      "Downloading http://yann.lecun.com/exdb/mnist/t10k-labels-idx1-ubyte.gz to data/MNIST/raw/t10k-labels-idx1-ubyte.gz\n",
      "180.4%Extracting data/MNIST/raw/t10k-labels-idx1-ubyte.gz\n",
      "Processing...\n",
      "Done!\n",
      "Generator(\n",
      "  (encoder_fc1): Linear(in_features=3, out_features=6, bias=True)\n",
      "  (encoder_batch_norm1): BatchNorm1d(128, eps=1e-05, momentum=0.1, affine=True, track_running_stats=True)\n",
      "  (encoder_fc2): Linear(in_features=6, out_features=12, bias=True)\n",
      "  (encoder_batch_norm2): BatchNorm1d(128, eps=1e-05, momentum=0.1, affine=True, track_running_stats=True)\n",
      "  (encoder_fc3): Linear(in_features=12, out_features=12, bias=True)\n",
      "  (relation1_unary): Linear(in_features=12, out_features=12, bias=True)\n",
      "  (relation2_unary): Linear(in_features=12, out_features=12, bias=True)\n",
      "  (relation3_unary): Linear(in_features=12, out_features=12, bias=True)\n",
      "  (relation4_unary): Linear(in_features=12, out_features=12, bias=True)\n",
      "  (decoder_fc1): Linear(in_features=12, out_features=6, bias=True)\n",
      "  (decoder_batch_norm1): BatchNorm1d(128, eps=1e-05, momentum=0.1, affine=True, track_running_stats=True)\n",
      "  (decoder_fc2): Linear(in_features=6, out_features=3, bias=True)\n",
      "  (branch_fc1): Linear(in_features=3, out_features=1, bias=True)\n",
      "  (branch_fc2): Linear(in_features=3, out_features=2, bias=True)\n",
      ")\n",
      "RelationDiscriminator(\n",
      "  (encoder_fc1): Linear(in_features=3, out_features=6, bias=True)\n",
      "  (encoder_batch_norm1): BatchNorm1d(128, eps=1e-05, momentum=0.1, affine=True, track_running_stats=True)\n",
      "  (encoder_fc2): Linear(in_features=6, out_features=12, bias=True)\n",
      "  (encoder_batch_norm2): BatchNorm1d(128, eps=1e-05, momentum=0.1, affine=True, track_running_stats=True)\n",
      "  (encoder_fc3): Linear(in_features=12, out_features=12, bias=True)\n",
      "  (relation1_unary): Linear(in_features=12, out_features=12, bias=True)\n",
      "  (relation2_unary): Linear(in_features=12, out_features=12, bias=True)\n",
      "  (relation3_unary): Linear(in_features=12, out_features=12, bias=True)\n",
      "  (relation4_unary): Linear(in_features=12, out_features=12, bias=True)\n",
      "  (decoder_fc1): Linear(in_features=12, out_features=6, bias=True)\n",
      "  (decoder_batch_norm1): BatchNorm1d(128, eps=1e-05, momentum=0.1, affine=True, track_running_stats=True)\n",
      "  (decoder_fc2): Linear(in_features=6, out_features=3, bias=True)\n",
      "  (branch_fc1): Linear(in_features=3, out_features=1, bias=True)\n",
      "  (branch_fc2): Linear(in_features=3, out_features=2, bias=True)\n",
      "  (logits): Linear(in_features=3, out_features=1, bias=True)\n",
      ")\n",
      "Initialize optimizers.\n",
      "Initialize training.\n",
      "Start to train epoch 0.\n",
      "In batch 1 of epoch 1.\n",
      "Start train discriminator with real images.\n",
      "^C\n",
      "Traceback (most recent call last):\n",
      "  File \"main.py\", line 242, in <module>\n",
      "    train_mnist(device, writer)\n",
      "  File \"main.py\", line 151, in train_mnist\n",
      "    discriminator_real = discriminator(real_images)\n",
      "  File \"/miniconda/envs/py36/lib/python3.6/site-packages/torch/nn/modules/module.py\", line 493, in __call__\n",
      "    result = self.forward(*input, **kwargs)\n",
      "  File \"/notebooks/LayoutGAN/models.py\", line 201, in forward\n",
      "    self.relation1_phi, self.relation1_wr)\n",
      "  File \"/notebooks/LayoutGAN/models.py\", line 32, in relation_module\n",
      "    u = F.relu(unary(j))\n",
      "  File \"/miniconda/envs/py36/lib/python3.6/site-packages/torch/nn/modules/module.py\", line 500, in __call__\n",
      "    if len(self._backward_hooks) > 0:\n",
      "KeyboardInterrupt\n"
     ]
    }
   ],
   "source": [
    "!python main.py"
   ]
  }
 ],
 "metadata": {
  "kernelspec": {
   "display_name": "Python 3",
   "language": "python",
   "name": "python3"
  },
  "language_info": {
   "codemirror_mode": {
    "name": "ipython",
    "version": 3
   },
   "file_extension": ".py",
   "mimetype": "text/x-python",
   "name": "python",
   "nbconvert_exporter": "python",
   "pygments_lexer": "ipython3",
   "version": "3.6.7"
  }
 },
 "nbformat": 4,
 "nbformat_minor": 2
}
